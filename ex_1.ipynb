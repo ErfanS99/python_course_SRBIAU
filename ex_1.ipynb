{
  "nbformat": 4,
  "nbformat_minor": 0,
  "metadata": {
    "colab": {
      "provenance": [],
      "authorship_tag": "ABX9TyP4mmbZcF2j8BXmem6jcDGc",
      "include_colab_link": true
    },
    "kernelspec": {
      "name": "python3",
      "display_name": "Python 3"
    },
    "language_info": {
      "name": "python"
    }
  },
  "cells": [
    {
      "cell_type": "markdown",
      "metadata": {
        "id": "view-in-github",
        "colab_type": "text"
      },
      "source": [
        "<a href=\"https://colab.research.google.com/github/ErfanS99/python_course_SRBIAU/blob/main/ex_1.ipynb\" target=\"_parent\"><img src=\"https://colab.research.google.com/assets/colab-badge.svg\" alt=\"Open In Colab\"/></a>"
      ]
    },
    {
      "cell_type": "markdown",
      "source": [
        "# First session of Python class"
      ],
      "metadata": {
        "id": "UlnE572Ked0m"
      }
    },
    {
      "cell_type": "markdown",
      "source": [
        "Variable name assining"
      ],
      "metadata": {
        "id": "fbz19B1Ym-TQ"
      }
    },
    {
      "cell_type": "code",
      "execution_count": 3,
      "metadata": {
        "id": "2g0L_4C9OY2r"
      },
      "outputs": [],
      "source": [
        "myVariableName = 0 # Camel Case\n",
        "MyVariableName = 0 # Pascal Case\n",
        "my_variable_name_1 = None # Snake Case\n",
        "# 1a or %d Not acceptable"
      ]
    },
    {
      "cell_type": "markdown",
      "source": [
        "Math Operators"
      ],
      "metadata": {
        "id": "vU8358Q5h-is"
      }
    },
    {
      "cell_type": "code",
      "source": [
        "x = 15\n",
        "y = 4\n",
        "\n",
        "print(x + y)\n",
        "print(x - y)\n",
        "print(x * y)\n",
        "print(x / y)\n",
        "print(x % y)\n",
        "print(x ** y)\n",
        "print(x // y)"
      ],
      "metadata": {
        "colab": {
          "base_uri": "https://localhost:8080/"
        },
        "id": "dKWZFj9Zh9um",
        "outputId": "250a7508-df3e-4610-fd62-e40c5dc06a8a"
      },
      "execution_count": 1,
      "outputs": [
        {
          "output_type": "stream",
          "name": "stdout",
          "text": [
            "19\n",
            "11\n",
            "60\n",
            "3.75\n",
            "3\n",
            "50625\n",
            "3\n"
          ]
        }
      ]
    },
    {
      "cell_type": "code",
      "source": [
        "x, y, z = myFunc() # Same as x, y, z = [1, 2.4512, 3]"
      ],
      "metadata": {
        "id": "-YdRCOQjSc6W"
      },
      "execution_count": null,
      "outputs": []
    },
    {
      "cell_type": "code",
      "source": [
        "a = b = c = 8e5"
      ],
      "metadata": {
        "id": "DBRdUqb5nlO_"
      },
      "execution_count": null,
      "outputs": []
    },
    {
      "cell_type": "code",
      "source": [
        "# My comment\n",
        "def myFunc():\n",
        "  \"\"\"\n",
        "  Something\n",
        "  \"\"\"\n",
        "  return [1, 2.4512, 3]"
      ],
      "metadata": {
        "id": "LNkaYAkzWem-"
      },
      "execution_count": null,
      "outputs": []
    },
    {
      "cell_type": "code",
      "source": [
        "print(\"*\" * 15)\n",
        "print(a + b + c)\n",
        "print(\"Hello\" + \" World!\")\n",
        "print(f\"X: {x}, Y: {y:.3f}\")\n",
        "print(\"*\" * 15)\n",
        "print(g:=5)"
      ],
      "metadata": {
        "colab": {
          "base_uri": "https://localhost:8080/"
        },
        "id": "oGCOgTd5X0oH",
        "outputId": "849ab261-9f00-4dc6-98f3-da5fa9eb1d77"
      },
      "execution_count": null,
      "outputs": [
        {
          "output_type": "stream",
          "name": "stdout",
          "text": [
            "***************\n",
            "2400000.0\n",
            "Hello World!\n",
            "X: 1, Y: 2.451\n",
            "***************\n",
            "5\n"
          ]
        }
      ]
    },
    {
      "cell_type": "markdown",
      "source": [
        "String Slicing"
      ],
      "metadata": {
        "id": "KZk17_EZnYQP"
      }
    },
    {
      "cell_type": "code",
      "source": [
        "a = \"Hello World!\"\n",
        "a[5]\n",
        "a[1:4]\n",
        "a[3:]\n",
        "a[:3]\n",
        "a[-1]\n",
        "a[-5]\n",
        "a[:-1]\n",
        "a[-3:]\n",
        "a[::]\n",
        "a[::-1]"
      ],
      "metadata": {
        "colab": {
          "base_uri": "https://localhost:8080/",
          "height": 36
        },
        "id": "6OaVaeemYws3",
        "outputId": "1f5c5289-3481-4cc1-d515-a65b6ed88a69"
      },
      "execution_count": null,
      "outputs": [
        {
          "output_type": "execute_result",
          "data": {
            "text/plain": [
              "'!dlroW olleH'"
            ],
            "application/vnd.google.colaboratory.intrinsic+json": {
              "type": "string"
            }
          },
          "metadata": {},
          "execution_count": 109
        }
      ]
    },
    {
      "cell_type": "markdown",
      "source": [
        "Most common string methods"
      ],
      "metadata": {
        "id": "SBQVCrWDnbou"
      }
    },
    {
      "cell_type": "code",
      "source": [
        "a.split(\" \")\n",
        "a = \"W Hello World! W\"\n",
        "a.strip(\" W\")\n",
        "a.strip().split()\n",
        "a.replace(\" \", \"/\")\n",
        "a.upper()\n",
        "a.lower()"
      ],
      "metadata": {
        "colab": {
          "base_uri": "https://localhost:8080/",
          "height": 36
        },
        "id": "NlWTxkyWb9KM",
        "outputId": "b47b2f88-bd88-44d4-e5d4-270364b49d12"
      },
      "execution_count": null,
      "outputs": [
        {
          "output_type": "execute_result",
          "data": {
            "text/plain": [
              "'w hello world! w'"
            ],
            "application/vnd.google.colaboratory.intrinsic+json": {
              "type": "string"
            }
          },
          "metadata": {},
          "execution_count": 134
        }
      ]
    }
  ]
}