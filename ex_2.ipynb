{
  "nbformat": 4,
  "nbformat_minor": 0,
  "metadata": {
    "colab": {
      "provenance": [],
      "authorship_tag": "ABX9TyORFW8v3fbXxXZjE+BwPpC+",
      "include_colab_link": true
    },
    "kernelspec": {
      "name": "python3",
      "display_name": "Python 3"
    },
    "language_info": {
      "name": "python"
    }
  },
  "cells": [
    {
      "cell_type": "markdown",
      "metadata": {
        "id": "view-in-github",
        "colab_type": "text"
      },
      "source": [
        "<a href=\"https://colab.research.google.com/github/ErfanS99/python_course_SRBIAU/blob/main/ex_2.ipynb\" target=\"_parent\"><img src=\"https://colab.research.google.com/assets/colab-badge.svg\" alt=\"Open In Colab\"/></a>"
      ]
    },
    {
      "cell_type": "code",
      "execution_count": null,
      "metadata": {
        "id": "hSa2sXIcuQW8"
      },
      "outputs": [],
      "source": []
    },
    {
      "cell_type": "code",
      "source": [],
      "metadata": {
        "id": "yDk6H7_4uQ6V"
      },
      "execution_count": null,
      "outputs": []
    },
    {
      "cell_type": "code",
      "source": [],
      "metadata": {
        "id": "avKW256_uQ8_"
      },
      "execution_count": null,
      "outputs": []
    },
    {
      "cell_type": "code",
      "source": [],
      "metadata": {
        "id": "ArYFwszKuQ_X"
      },
      "execution_count": null,
      "outputs": []
    },
    {
      "cell_type": "code",
      "source": [
        "\n"
      ],
      "metadata": {
        "id": "CDVwS7tTuRCG"
      },
      "execution_count": null,
      "outputs": []
    },
    {
      "cell_type": "code",
      "source": [],
      "metadata": {
        "id": "Dv-oC_lEuSzG"
      },
      "execution_count": null,
      "outputs": []
    },
    {
      "cell_type": "markdown",
      "source": [
        "Recursive Definitions"
      ],
      "metadata": {
        "id": "4rLCyqc0udkO"
      }
    },
    {
      "cell_type": "code",
      "source": [
        "def factorial(n):\n",
        "    if n == 0:  # Base case\n",
        "        return 1\n",
        "    else:  # Recursive case\n",
        "        return n * factorial(n - 1)\n",
        "\n",
        "# Test the function\n",
        "print(factorial(5))  # Output: 120"
      ],
      "metadata": {
        "id": "4XIUISsHuS2H"
      },
      "execution_count": null,
      "outputs": []
    },
    {
      "cell_type": "code",
      "source": [
        "def fibonacci(n):\n",
        "    if n <= 1:  # Base case\n",
        "        return n\n",
        "    else:  # Recursive case\n",
        "        return fibonacci(n - 1) + fibonacci(n - 2)\n",
        "\n",
        "print(fibonacci(6))  # Output: 8\n"
      ],
      "metadata": {
        "id": "pCxksHNyuglG"
      },
      "execution_count": null,
      "outputs": []
    },
    {
      "cell_type": "code",
      "source": [
        "def sum_list(lst):\n",
        "    if not lst:  # Base case: empty list\n",
        "        return 0\n",
        "    else:  # Recursive case\n",
        "        return lst[0] + sum_list(lst[1:])\n",
        "\n",
        "print(sum_list([1, 2, 3, 4]))  # Output: 10\n"
      ],
      "metadata": {
        "id": "n_jlYwSDukKO"
      },
      "execution_count": null,
      "outputs": []
    }
  ]
}