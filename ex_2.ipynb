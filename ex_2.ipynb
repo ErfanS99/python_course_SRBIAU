{
  "nbformat": 4,
  "nbformat_minor": 0,
  "metadata": {
    "colab": {
      "provenance": [],
      "authorship_tag": "ABX9TyM8ZxVdcH2pujoXdJph3UHk",
      "include_colab_link": true
    },
    "kernelspec": {
      "name": "python3",
      "display_name": "Python 3"
    },
    "language_info": {
      "name": "python"
    }
  },
  "cells": [
    {
      "cell_type": "markdown",
      "metadata": {
        "id": "view-in-github",
        "colab_type": "text"
      },
      "source": [
        "<a href=\"https://colab.research.google.com/github/ErfanS99/python_course_SRBIAU/blob/main/ex_2.ipynb\" target=\"_parent\"><img src=\"https://colab.research.google.com/assets/colab-badge.svg\" alt=\"Open In Colab\"/></a>"
      ]
    },
    {
      "cell_type": "markdown",
      "source": [
        "# Secoond session (Conditional statements)"
      ],
      "metadata": {
        "id": "Y7Qj4eZchJc4"
      }
    },
    {
      "cell_type": "code",
      "execution_count": 13,
      "metadata": {
        "id": "hSa2sXIcuQW8",
        "colab": {
          "base_uri": "https://localhost:8080/"
        },
        "outputId": "816e4643-b5be-4518-e6ba-92d0a66124c5"
      },
      "outputs": [
        {
          "output_type": "stream",
          "name": "stdout",
          "text": [
            "50\n",
            "5\n"
          ]
        }
      ],
      "source": [
        "if True:\n",
        "    print(50)\n",
        "    print(5)"
      ]
    },
    {
      "cell_type": "code",
      "source": [
        "a = input(\"Enter your number: \")\n",
        "a = int(a)\n",
        "if a % 2 == 0:\n",
        "  print(\"Number is even\")\n",
        "else:\n",
        "  print(\"Number is odd\")\n",
        ""
      ],
      "metadata": {
        "id": "yDk6H7_4uQ6V",
        "colab": {
          "base_uri": "https://localhost:8080/"
        },
        "outputId": "5016059e-c10b-4576-95e0-800c3b558eee"
      },
      "execution_count": 21,
      "outputs": [
        {
          "output_type": "stream",
          "name": "stdout",
          "text": [
            "Enter your number: 5\n",
            "Number is odd\n"
          ]
        }
      ]
    },
    {
      "cell_type": "code",
      "source": [
        "a = input(\"Enter your number: \")\n",
        "a = float(a)\n",
        "if a > 0:\n",
        "  print(\"Number is positive\")\n",
        "elif a == 0:\n",
        "  print(\"Number is zero\")\n",
        "else:\n",
        "  print(\"Number is negative\")"
      ],
      "metadata": {
        "id": "avKW256_uQ8_",
        "colab": {
          "base_uri": "https://localhost:8080/"
        },
        "outputId": "f8b5053f-762c-4fd2-ba6c-24b504c0a995"
      },
      "execution_count": 26,
      "outputs": [
        {
          "output_type": "stream",
          "name": "stdout",
          "text": [
            "Enter your number: 5.5\n",
            "Number is positive\n"
          ]
        }
      ]
    },
    {
      "cell_type": "code",
      "source": [
        "a = input(\"Enter your number: \")\n",
        "a = float(a)\n",
        "if a < -1:\n",
        "  print(\"Number is less than -1\")\n",
        "elif a > -1 and a < 0:\n",
        "  print(\"Number is between -1 and 0\")\n",
        "elif a == 0:\n",
        "  print(\"Number is equal to zero\")\n",
        "elif a > 0 and a < 1:\n",
        "  print(\"Number is between 0 and 1\")\n",
        "else:\n",
        "  print(\"Number is greater than 1\")"
      ],
      "metadata": {
        "colab": {
          "base_uri": "https://localhost:8080/"
        },
        "id": "3aBTZECBRY0K",
        "outputId": "cf7b8282-a60d-4355-cc8f-ecabc0230ea6"
      },
      "execution_count": 32,
      "outputs": [
        {
          "output_type": "stream",
          "name": "stdout",
          "text": [
            "Enter your number: 0\n",
            "Number is equal to zero\n"
          ]
        }
      ]
    },
    {
      "cell_type": "code",
      "source": [
        "hex(id(a))"
      ],
      "metadata": {
        "colab": {
          "base_uri": "https://localhost:8080/",
          "height": 36
        },
        "id": "qznQgUrvSulx",
        "outputId": "c3da3f46-ec2d-421d-ed49-acafa0a81d44"
      },
      "execution_count": 39,
      "outputs": [
        {
          "output_type": "execute_result",
          "data": {
            "text/plain": [
              "'0xb1d568'"
            ],
            "application/vnd.google.colaboratory.intrinsic+json": {
              "type": "string"
            }
          },
          "metadata": {},
          "execution_count": 39
        }
      ]
    },
    {
      "cell_type": "markdown",
      "source": [
        "Bitwise operators"
      ],
      "metadata": {
        "id": "jrNXE68khUb_"
      }
    },
    {
      "cell_type": "code",
      "source": [
        "print(bin(5))\n",
        "print(bin(6))\n",
        "print(bin(5 & 6))\n",
        "print(5&6)\n",
        "print(bin(4))\n",
        "print(\"*\"*10)\n",
        "print(bin(5 | 6))\n",
        "print(\"*\"*10)\n",
        "print(\"XOR operator:\")\n",
        "print(5 ^ 6)\n",
        "bin(3)"
      ],
      "metadata": {
        "colab": {
          "base_uri": "https://localhost:8080/",
          "height": 209
        },
        "id": "v3sQTOXrUVnp",
        "outputId": "6d889730-751f-4866-f6d4-9d643ed8579f"
      },
      "execution_count": 66,
      "outputs": [
        {
          "output_type": "stream",
          "name": "stdout",
          "text": [
            "0b101\n",
            "0b110\n",
            "0b100\n",
            "4\n",
            "0b100\n",
            "**********\n",
            "0b111\n",
            "**********\n",
            "XOR operator:\n",
            "3\n"
          ]
        },
        {
          "output_type": "execute_result",
          "data": {
            "text/plain": [
              "'0b11'"
            ],
            "application/vnd.google.colaboratory.intrinsic+json": {
              "type": "string"
            }
          },
          "metadata": {},
          "execution_count": 66
        }
      ]
    },
    {
      "cell_type": "markdown",
      "source": [
        "Loop definition"
      ],
      "metadata": {
        "id": "gS4OAs-WhfYO"
      }
    },
    {
      "cell_type": "code",
      "source": [
        "print(type(range(5)))\n",
        "list(range(5))"
      ],
      "metadata": {
        "colab": {
          "base_uri": "https://localhost:8080/"
        },
        "id": "iIll4sEGWHNW",
        "outputId": "b555241f-d120-4b56-f431-f376eb1f5d4f"
      },
      "execution_count": 71,
      "outputs": [
        {
          "output_type": "stream",
          "name": "stdout",
          "text": [
            "<class 'range'>\n"
          ]
        },
        {
          "output_type": "execute_result",
          "data": {
            "text/plain": [
              "[0, 1, 2, 3, 4]"
            ]
          },
          "metadata": {},
          "execution_count": 71
        }
      ]
    },
    {
      "cell_type": "code",
      "source": [
        "for i in range(5):\n",
        "  print(i*10)"
      ],
      "metadata": {
        "colab": {
          "base_uri": "https://localhost:8080/"
        },
        "id": "I5gLNg5SWak3",
        "outputId": "464e176b-63dc-439a-d5d5-fc852142f505"
      },
      "execution_count": 73,
      "outputs": [
        {
          "output_type": "stream",
          "name": "stdout",
          "text": [
            "0\n",
            "10\n",
            "20\n",
            "30\n",
            "40\n"
          ]
        }
      ]
    },
    {
      "cell_type": "code",
      "source": [
        "l = [0, 5 , 10, 15 , 20]\n",
        "for i in l:\n",
        "  print(i/10)"
      ],
      "metadata": {
        "colab": {
          "base_uri": "https://localhost:8080/"
        },
        "id": "uLuaADcUWoUm",
        "outputId": "87275fc3-1244-42f9-8861-2141d3b825ef"
      },
      "execution_count": 74,
      "outputs": [
        {
          "output_type": "stream",
          "name": "stdout",
          "text": [
            "0.0\n",
            "0.5\n",
            "1.0\n",
            "1.5\n",
            "2.0\n"
          ]
        }
      ]
    },
    {
      "cell_type": "markdown",
      "source": [
        "XOR encryption"
      ],
      "metadata": {
        "id": "G-mHTD4Jhho3"
      }
    },
    {
      "cell_type": "code",
      "source": [
        "a = input(\"Enter your text: \")\n",
        "key = 8\n",
        "characters = []\n",
        "for i in a:\n",
        "  ascii_chr = ord(i)\n",
        "  enc_code = ascii_chr ^ key\n",
        "  enc_chr = chr(enc_code)\n",
        "  characters.append(enc_chr) #  characters.append(chr(ord(i) ^ key))\n",
        "\n",
        "xry_txt = \"\".join(characters)\n",
        "\n",
        "print(xry_txt)\n"
      ],
      "metadata": {
        "colab": {
          "base_uri": "https://localhost:8080/"
        },
        "id": "rd3uun0gVrd8",
        "outputId": "41d5f281-d9b0-484f-ea10-ce7645fdd328"
      },
      "execution_count": 98,
      "outputs": [
        {
          "output_type": "stream",
          "name": "stdout",
          "text": [
            "Enter your text: Hello\n",
            "@mddg\n"
          ]
        }
      ]
    },
    {
      "cell_type": "markdown",
      "source": [
        "\"In\" statement"
      ],
      "metadata": {
        "id": "dHqYWsXwhvon"
      }
    },
    {
      "cell_type": "code",
      "source": [
        "l = [1, 2, 3]\n",
        "2 in l"
      ],
      "metadata": {
        "colab": {
          "base_uri": "https://localhost:8080/"
        },
        "id": "zAGSY28LakLj",
        "outputId": "e1ea8f08-1f60-4429-f01e-5ac9213cdda0"
      },
      "execution_count": 99,
      "outputs": [
        {
          "output_type": "execute_result",
          "data": {
            "text/plain": [
              "True"
            ]
          },
          "metadata": {},
          "execution_count": 99
        }
      ]
    },
    {
      "cell_type": "markdown",
      "source": [
        "List Definition"
      ],
      "metadata": {
        "id": "KTiNtXFYbmNi"
      }
    },
    {
      "cell_type": "code",
      "source": [
        "A = [1, 2.5, None, \"a\", 'Hello'] # index starts at 0\n",
        "B = [5, 2 , 4]\n",
        "A.append(5)\n",
        "A.insert(1,\" \")\n",
        "print(len(A))\n",
        "print(A[0])\n",
        "A.extend(B)\n",
        "print(B)\n",
        "A.remove(2.5)\n",
        "A.remove(\"a\")\n",
        "print(A)\n",
        "A.pop(2)\n",
        "print(A)\n",
        "B.sort()\n",
        "print(B)"
      ],
      "metadata": {
        "colab": {
          "base_uri": "https://localhost:8080/"
        },
        "id": "l4AHrfqEZtBi",
        "outputId": "8de6aef8-8c13-4841-af2f-f6c622393a9d"
      },
      "execution_count": 137,
      "outputs": [
        {
          "output_type": "stream",
          "name": "stdout",
          "text": [
            "7\n",
            "1\n",
            "[5, 2, 4]\n",
            "[1, ' ', None, 'Hello', 5, 5, 2, 4]\n",
            "[1, ' ', 'Hello', 5, 5, 2, 4]\n",
            "[2, 4, 5]\n"
          ]
        }
      ]
    },
    {
      "cell_type": "code",
      "source": [
        "a = [1, 2, 3]\n",
        "b = [1, 2, 3]\n",
        "c = a\n",
        "d = a.copy()\n",
        "print(a == b)\n",
        "print(a is b)\n",
        "print(a is c)\n",
        "print(a is not a)\n",
        "print(a == d)\n",
        "print(a is d)"
      ],
      "metadata": {
        "colab": {
          "base_uri": "https://localhost:8080/"
        },
        "id": "dXtlL5RydosV",
        "outputId": "b55432bb-f584-4a82-df05-e675a36814da"
      },
      "execution_count": 142,
      "outputs": [
        {
          "output_type": "stream",
          "name": "stdout",
          "text": [
            "True\n",
            "False\n",
            "True\n",
            "False\n",
            "True\n",
            "False\n"
          ]
        }
      ]
    },
    {
      "cell_type": "code",
      "source": [
        "a = list(range(5))\n",
        "list(range(2,10))\n",
        "print(a)\n",
        "a[4] = 0\n",
        "print(a)"
      ],
      "metadata": {
        "colab": {
          "base_uri": "https://localhost:8080/"
        },
        "id": "iStQhK45eB9x",
        "outputId": "8de80318-ffcb-4dcb-edb1-834ddfa8e960"
      },
      "execution_count": 149,
      "outputs": [
        {
          "output_type": "stream",
          "name": "stdout",
          "text": [
            "[0, 1, 2, 3, 4]\n",
            "[0, 1, 2, 3, 0]\n"
          ]
        }
      ]
    },
    {
      "cell_type": "markdown",
      "source": [
        "Tuple and Set Definition"
      ],
      "metadata": {
        "id": "cvBBJ6dnebpw"
      }
    },
    {
      "cell_type": "code",
      "source": [
        "A  = (1, 2, 3)\n",
        "print(type(A))\n",
        "# A[0] = 5 # Does not allow item assigment\n",
        "B = {1, 2, 3}\n",
        "print(type(B))\n",
        "B = {1, 2, 3, 2, 1}\n",
        "print(B)\n",
        "# B[0]\n"
      ],
      "metadata": {
        "colab": {
          "base_uri": "https://localhost:8080/"
        },
        "id": "U6sWcLs3eYPp",
        "outputId": "c77c1269-d3b9-44e5-c445-3cf6659a5b40"
      },
      "execution_count": 159,
      "outputs": [
        {
          "output_type": "stream",
          "name": "stdout",
          "text": [
            "<class 'tuple'>\n",
            "<class 'set'>\n",
            "{1, 2, 3}\n"
          ]
        }
      ]
    },
    {
      "cell_type": "markdown",
      "source": [
        "While Definition"
      ],
      "metadata": {
        "id": "mjbauzJcjoBP"
      }
    },
    {
      "cell_type": "code",
      "source": [
        "state = True\n",
        "while state:\n",
        "  a = input(\"Enter your number: \")\n",
        "  a = float(a)\n",
        "  if a < 0:\n",
        "    print(\"Invalid input\")\n",
        "    continue\n",
        "  if a >= 0 and a < 1:\n",
        "    print(\"Number between 0 and 1\")\n",
        "  else:\n",
        "    print(\"Number is greater than 1\")\n",
        "\n",
        "  answ = input(\"Do you want to continue? (y/n)\")\n",
        "  if answ == \"n\":\n",
        "    state = False\n",
        ""
      ],
      "metadata": {
        "id": "Dv-oC_lEuSzG",
        "colab": {
          "base_uri": "https://localhost:8080/"
        },
        "outputId": "e7aa96af-2f0b-43f0-d91d-9b7ab24db11a"
      },
      "execution_count": 174,
      "outputs": [
        {
          "name": "stdout",
          "output_type": "stream",
          "text": [
            "Enter your number: 5\n",
            "Number is greater than 1\n",
            "Do you want to continue? (y/n)n\n"
          ]
        }
      ]
    },
    {
      "cell_type": "code",
      "source": [],
      "metadata": {
        "id": "RWIAaLADOXOr"
      },
      "execution_count": null,
      "outputs": []
    },
    {
      "cell_type": "code",
      "source": [],
      "metadata": {
        "id": "23_ySTq6OXRZ"
      },
      "execution_count": null,
      "outputs": []
    },
    {
      "cell_type": "code",
      "source": [],
      "metadata": {
        "id": "rw2_8nIgOXTy"
      },
      "execution_count": null,
      "outputs": []
    },
    {
      "cell_type": "code",
      "source": [],
      "metadata": {
        "id": "4SYI0ABwOXzU"
      },
      "execution_count": null,
      "outputs": []
    },
    {
      "cell_type": "markdown",
      "source": [
        "Recursive Definitions"
      ],
      "metadata": {
        "id": "4rLCyqc0udkO"
      }
    },
    {
      "cell_type": "code",
      "source": [
        "def factorial(n):\n",
        "    if n == 0:  # Base case\n",
        "        return 1\n",
        "    else:  # Recursive case\n",
        "        return n * factorial(n - 1)\n",
        "\n",
        "# Test the function\n",
        "print(factorial(5))  # Output: 120"
      ],
      "metadata": {
        "id": "4XIUISsHuS2H"
      },
      "execution_count": null,
      "outputs": []
    },
    {
      "cell_type": "code",
      "source": [
        "def fibonacci(n):\n",
        "    if n <= 1:  # Base case\n",
        "        return n\n",
        "    else:  # Recursive case\n",
        "        return fibonacci(n - 1) + fibonacci(n - 2)\n",
        "\n",
        "print(fibonacci(6))  # Output: 8\n"
      ],
      "metadata": {
        "id": "pCxksHNyuglG"
      },
      "execution_count": null,
      "outputs": []
    },
    {
      "cell_type": "code",
      "source": [
        "def sum_list(lst):\n",
        "    if not lst:  # Base case: empty list\n",
        "        return 0\n",
        "    else:  # Recursive case\n",
        "        return lst[0] + sum_list(lst[1:])\n",
        "\n",
        "print(sum_list([1, 2, 3, 4]))  # Output: 10\n"
      ],
      "metadata": {
        "id": "n_jlYwSDukKO"
      },
      "execution_count": null,
      "outputs": []
    }
  ]
}